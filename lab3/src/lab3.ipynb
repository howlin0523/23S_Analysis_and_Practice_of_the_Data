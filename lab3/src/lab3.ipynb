{
 "cells": [
  {
   "cell_type": "code",
   "execution_count": 63,
   "metadata": {},
   "outputs": [],
   "source": [
    "import numpy as np\n",
    "import pandas as pd\n",
    "import seaborn as sns\n",
    "import matplotlib.pyplot as plt"
   ]
  },
  {
   "cell_type": "code",
   "execution_count": 64,
   "metadata": {},
   "outputs": [
    {
     "data": {
      "text/plain": [
       "<bound method DataFrame.info of        Unnamed: 0.1  Unnamed: 0  index  CNTRYID  CNT  NatCen  STRATUM   \n",
       "0                 0           0  11956    152.0  CHL   15200  CHL0206  \\\n",
       "1                 1           1  11958    152.0  CHL   15200  CHL0414   \n",
       "2                 2           2  11960    152.0  CHL   15200  CHL0308   \n",
       "3                 3           3  11961    152.0  CHL   15200  CHL0414   \n",
       "4                 4           4  11965    152.0  CHL   15200  CHL0308   \n",
       "...             ...         ...    ...      ...  ...     ...      ...   \n",
       "42171         42171       42171  89401    724.0  ESP   72400  ESP1020   \n",
       "42172         42172       42172  89402    724.0  ESP   72400  ESP9015   \n",
       "42173         42173       42173  89403    724.0  ESP   72400  ESP9029   \n",
       "42174         42174       42174  89405    724.0  ESP   72400  ESP0509   \n",
       "42175         42175       42175  89406    724.0  ESP   72400  ESP9003   \n",
       "\n",
       "       SUBNATIO  OECD  ADMINMODE  ...  EMOSUPP  PQSCHOOL  PASCHPOL  PRESUPP   \n",
       "0       1520000   1.0        2.0  ...    0.739    0.7457    1.6215  -0.5678  \\\n",
       "1       1520000   1.0        2.0  ...    0.739    2.0484    1.3268  -0.2262   \n",
       "2       1520000   1.0        2.0  ...    0.739   -0.7951   -0.6368   0.6406   \n",
       "3       1520000   1.0        2.0  ...    0.739   -1.4552   -1.1177  -1.1910   \n",
       "4       1520000   1.0        2.0  ...    0.739    0.3731    0.5620   0.5225   \n",
       "...         ...   ...        ...  ...      ...       ...       ...      ...   \n",
       "42171   7240000   1.0        2.0  ...      NaN       NaN       NaN      NaN   \n",
       "42172   7240000   1.0        2.0  ...      NaN       NaN       NaN      NaN   \n",
       "42173   7240000   1.0        2.0  ...      NaN       NaN       NaN      NaN   \n",
       "42174   7240000   1.0        2.0  ...      NaN       NaN       NaN      NaN   \n",
       "42175   7240000   1.0        2.0  ...      NaN       NaN       NaN      NaN   \n",
       "\n",
       "       JOYREADP  ATTIMMP  INTCULTP  GCAWAREP  BODYIMA  SOCONPA  \n",
       "0       -1.5853  -0.9700   -0.7128   -0.4661      NaN      NaN  \n",
       "1        0.0327  -0.4189   -0.0831    0.2619      NaN      NaN  \n",
       "2        0.8279  -2.1628    0.6497   -0.6305      NaN      NaN  \n",
       "3        1.3690  -1.5354   -0.3192   -0.4310      NaN      NaN  \n",
       "4       -0.4457  -0.4189    0.7827   -1.7909      NaN      NaN  \n",
       "...         ...      ...       ...       ...      ...      ...  \n",
       "42171       NaN      NaN       NaN       NaN      NaN      NaN  \n",
       "42172       NaN      NaN       NaN       NaN      NaN  -1.0299  \n",
       "42173       NaN      NaN       NaN       NaN      NaN      NaN  \n",
       "42174       NaN      NaN       NaN       NaN   0.9114   0.9078  \n",
       "42175       NaN      NaN       NaN       NaN  -0.2551   0.9078  \n",
       "\n",
       "[42176 rows x 488 columns]>"
      ]
     },
     "execution_count": 64,
     "metadata": {},
     "output_type": "execute_result"
    }
   ],
   "source": [
    "df = pd.read_csv('../data.csv',index_col=False)\n",
    "# df.to_csv('../data.csv')\n",
    "df.info"
   ]
  },
  {
   "cell_type": "code",
   "execution_count": 65,
   "metadata": {},
   "outputs": [
    {
     "data": {
      "text/plain": [
       "0        15048.0\n",
       "1        15048.0\n",
       "2        15048.0\n",
       "3        15048.0\n",
       "4        15048.0\n",
       "          ...   \n",
       "42171    71676.0\n",
       "42172    71676.0\n",
       "42173    71676.0\n",
       "42174    71676.0\n",
       "42175    71676.0\n",
       "Length: 42176, dtype: float64"
      ]
     },
     "execution_count": 65,
     "metadata": {},
     "output_type": "execute_result"
    }
   ],
   "source": [
    "df.drop(['CNT'], axis=1)\n",
    "df['NatCen'] - df['CNTRYID']\n"
   ]
  },
  {
   "cell_type": "code",
   "execution_count": 91,
   "metadata": {},
   "outputs": [
    {
     "data": {
      "text/plain": [
       "<Axes: xlabel='REPEAT', ylabel='ST127Q02TA'>"
      ]
     },
     "execution_count": 91,
     "metadata": {},
     "output_type": "execute_result"
    },
    {
     "data": {
      "image/png": "[encoded data removed]",
      "text/plain": [
       "<Figure size 640x480 with 1 Axes>"
      ]
     },
     "metadata": {},
     "output_type": "display_data"
    }
   ],
   "source": [
    "# correlation = df['REPEAT'].corr(df['ST127Q02TA'])\n",
    "# correlation\n",
    "# df['ST003D03T']\n",
    "\n",
    "# sns.scatterplot(df, x = 'REPEAT', y ='ST127Q02TA' )\n",
    "\n",
    "# for  in list(df):\n",
    "#     print"
   ]
  }
 ],
 "metadata": {
  "kernelspec": {
   "display_name": "base",
   "language": "python",
   "name": "python3"
  },
  "language_info": {
   "codemirror_mode": {
    "name": "ipython",
    "version": 3
   },
   "file_extension": ".py",
   "mimetype": "text/x-python",
   "name": "python",
   "nbconvert_exporter": "python",
   "pygments_lexer": "ipython3",
   "version": "3.10.10"
  },
  "orig_nbformat": 4
 },
 "nbformat": 4,
 "nbformat_minor": 2
}
